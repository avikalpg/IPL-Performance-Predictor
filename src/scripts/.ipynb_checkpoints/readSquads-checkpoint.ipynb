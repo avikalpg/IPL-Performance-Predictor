{
 "cells": [
  {
   "cell_type": "code",
   "execution_count": 13,
   "metadata": {},
   "outputs": [],
   "source": [
    "import os\n",
    "import sys\n",
    "import json"
   ]
  },
  {
   "cell_type": "code",
   "execution_count": 6,
   "metadata": {},
   "outputs": [],
   "source": [
    "folder = \"../web-data/squads/\""
   ]
  },
  {
   "cell_type": "code",
   "execution_count": 10,
   "metadata": {},
   "outputs": [
    {
     "name": "stdout",
     "output_type": "stream",
     "text": [
      "Loaded squad JSON files\n"
     ]
    }
   ],
   "source": [
    "squad_files = []\n",
    "for (dirpath, dirnames, filenames) in os.walk(folder):\n",
    "    squad_files = filenames\n",
    "    print(\"Loaded squad JSON files\")"
   ]
  },
  {
   "cell_type": "code",
   "execution_count": 27,
   "metadata": {},
   "outputs": [],
   "source": [
    "squad = squad_files[0]\n",
    "with open(folder+squad) as f:\n",
    "    squad = json.load(f)"
   ]
  },
  {
   "cell_type": "code",
   "execution_count": 28,
   "metadata": {},
   "outputs": [
    {
     "data": {
      "text/plain": [
       "dict_keys(['tournament', 'team', 'stats'])"
      ]
     },
     "execution_count": 28,
     "metadata": {},
     "output_type": "execute_result"
    }
   ],
   "source": [
    "squad.keys()"
   ]
  },
  {
   "cell_type": "code",
   "execution_count": 29,
   "metadata": {},
   "outputs": [
    {
     "data": {
      "text/plain": [
       "{'description': 'IPL 2018',\n",
       " 'endDate': '2018-05-27T23:00:00+0530',\n",
       " 'id': 7749,\n",
       " 'matchesByType': {'IPLT20': 60},\n",
       " 'name': 'ipl2018',\n",
       " 'provisional': False,\n",
       " 'startDate': '2018-04-07T20:00:00+0530'}"
      ]
     },
     "execution_count": 29,
     "metadata": {},
     "output_type": "execute_result"
    }
   ],
   "source": [
    "squad[\"tournament\"]"
   ]
  },
  {
   "cell_type": "code",
   "execution_count": 30,
   "metadata": {},
   "outputs": [
    {
     "data": {
      "text/plain": [
       "{'abbreviation': 'CSK',\n",
       " 'fullName': 'Chennai Super Kings',\n",
       " 'id': 1,\n",
       " 'primaryColor': 'FDB913',\n",
       " 'secondaryColor': '0081E5',\n",
       " 'shortName': 'Super Kings',\n",
       " 'type': 'm'}"
      ]
     },
     "execution_count": 30,
     "metadata": {},
     "output_type": "execute_result"
    }
   ],
   "source": [
    "squad[\"team\"]"
   ]
  },
  {
   "cell_type": "code",
   "execution_count": 31,
   "metadata": {},
   "outputs": [],
   "source": [
    "squad = squad[\"stats\"][\"content\"]"
   ]
  },
  {
   "cell_type": "code",
   "execution_count": 38,
   "metadata": {},
   "outputs": [
    {
     "name": "stdout",
     "output_type": "stream",
     "text": [
      "{'id': 1, 'fullName': 'MS Dhoni', 'shortName': 'MS Dhoni', 'nationality': 'Indian', 'dateOfBirth': '1981-07-07', 'rightArmedBowl': True, 'rightHandedBat': True}\n"
     ]
    }
   ],
   "source": [
    "for player in squad:\n",
    "    print(player[\"player\"])\n",
    "    #print(player[\"stats\"])\n",
    "    break"
   ]
  }
 ],
 "metadata": {
  "kernelspec": {
   "display_name": "Python 3",
   "language": "python",
   "name": "python3"
  },
  "language_info": {
   "codemirror_mode": {
    "name": "ipython",
    "version": 3
   },
   "file_extension": ".py",
   "mimetype": "text/x-python",
   "name": "python",
   "nbconvert_exporter": "python",
   "pygments_lexer": "ipython3",
   "version": "3.6.4"
  }
 },
 "nbformat": 4,
 "nbformat_minor": 2
}
