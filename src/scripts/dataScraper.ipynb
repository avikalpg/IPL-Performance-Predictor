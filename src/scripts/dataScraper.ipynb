{
 "cells": [
  {
   "cell_type": "code",
   "execution_count": 1,
   "metadata": {},
   "outputs": [],
   "source": [
    "import requests\n",
    "from bs4 import BeautifulSoup\n",
    "import sys"
   ]
  },
  {
   "cell_type": "code",
   "execution_count": 2,
   "metadata": {},
   "outputs": [],
   "source": [
    "url = \"https://www.iplt20.com/teams/mumbai-indians/squad\""
   ]
  },
  {
   "cell_type": "code",
   "execution_count": 3,
   "metadata": {},
   "outputs": [],
   "source": [
    "r = requests.get(url)"
   ]
  },
  {
   "cell_type": "code",
   "execution_count": 4,
   "metadata": {},
   "outputs": [],
   "source": [
    "soup = BeautifulSoup(r.content, 'html.parser')"
   ]
  },
  {
   "cell_type": "code",
   "execution_count": 5,
   "metadata": {},
   "outputs": [],
   "source": [
    "playersList = soup.find_all(\"ul\", \"playersList\")\n",
    "if len(playersList) != 1:\n",
    "    sys.stderr.write(\"Kuchh to gadbad hai Daya!\")\n",
    "else:\n",
    "    playersList = playersList[0]"
   ]
  },
  {
   "cell_type": "code",
   "execution_count": 6,
   "metadata": {},
   "outputs": [
    {
     "data": {
      "text/plain": [
       "<ul class=\"playersList js-players block-list-5 block-list-4-wide block-list-2-tab u-negative-margin\"></ul>"
      ]
     },
     "execution_count": 6,
     "metadata": {},
     "output_type": "execute_result"
    }
   ],
   "source": [
    "playersList"
   ]
  },
  {
   "cell_type": "code",
   "execution_count": 7,
   "metadata": {},
   "outputs": [
    {
     "data": {
      "text/plain": [
       "<div class=\"col-12\">\n",
       "<section class=\"widget large-squad-list\" data-script=\"ipl_team\" data-season=\"ipl2018\" data-widget=\"squad-list-with-filter\">\n",
       "<header class=\"widget__header js-title widget__header--no-link-to\">\n",
       "<h1 class=\"widget__title\"> IPL Squad <span class=\"widget__title--bold\">2018</span></h1>\n",
       "</header>\n",
       "<div class=\"large-squad-list__filter single-filter\">\n",
       "<div class=\"stats-table__filter drop-down js-drop-down\">\n",
       "<div class=\"drop-down__clickzone js-dropdown-trigger\" role=\"button\" tabindex=\"0\"></div>\n",
       "<div class=\"drop-down__label js-drop-down-label\">Filter by Year</div>\n",
       "<div class=\"drop-down__current js-drop-down-current\">2018</div>\n",
       "<ul class=\"drop-down__dropdown-list js-drop-down-options\">\n",
       "<li class=\"drop-down__dropdown-list__option\" data-option=\"ipl2018\" role=\"button\" tabindex=\"0\">2018</li>\n",
       "<li class=\"drop-down__dropdown-list__option\" data-option=\"ipl2017\" role=\"button\" tabindex=\"0\">2017</li>\n",
       "<li class=\"drop-down__dropdown-list__option\" data-option=\"ipl2016\" role=\"button\" tabindex=\"0\">2016</li>\n",
       "<li class=\"drop-down__dropdown-list__option\" data-option=\"ipl2015\" role=\"button\" tabindex=\"0\">2015</li>\n",
       "<li class=\"drop-down__dropdown-list__option\" data-option=\"ipl2014\" role=\"button\" tabindex=\"0\">2014</li>\n",
       "<li class=\"drop-down__dropdown-list__option\" data-option=\"ipl2013\" role=\"button\" tabindex=\"0\">2013</li>\n",
       "<li class=\"drop-down__dropdown-list__option\" data-option=\"ipl2012\" role=\"button\" tabindex=\"0\">2012</li>\n",
       "<li class=\"drop-down__dropdown-list__option\" data-option=\"ipl2011\" role=\"button\" tabindex=\"0\">2011</li>\n",
       "<li class=\"drop-down__dropdown-list__option\" data-option=\"ipl2010\" role=\"button\" tabindex=\"0\">2010</li>\n",
       "<li class=\"drop-down__dropdown-list__option\" data-option=\"ipl2009\" role=\"button\" tabindex=\"0\">2009</li>\n",
       "<li class=\"drop-down__dropdown-list__option\" data-option=\"ipl2008\" role=\"button\" tabindex=\"0\">2008</li>\n",
       "</ul>\n",
       "</div>\n",
       "</div>\n",
       "<ul class=\"playersList js-players block-list-5 block-list-4-wide block-list-2-tab u-negative-margin\"></ul>\n",
       "<div class=\"wrapper js-message u-hide\"><p class=\"message\">Squad information not available.</p></div>\n",
       "</section>\n",
       "</div>"
      ]
     },
     "execution_count": 7,
     "metadata": {},
     "output_type": "execute_result"
    }
   ],
   "source": [
    "soup.body.main.div.div"
   ]
  },
  {
   "cell_type": "markdown",
   "metadata": {},
   "source": [
    "The website loads the players' list dynamically using the cricketapi.com APIs"
   ]
  }
 ],
 "metadata": {
  "kernelspec": {
   "display_name": "Python 3",
   "language": "python",
   "name": "python3"
  },
  "language_info": {
   "codemirror_mode": {
    "name": "ipython",
    "version": 3
   },
   "file_extension": ".py",
   "mimetype": "text/x-python",
   "name": "python",
   "nbconvert_exporter": "python",
   "pygments_lexer": "ipython3",
   "version": "3.6.4"
  }
 },
 "nbformat": 4,
 "nbformat_minor": 2
}
