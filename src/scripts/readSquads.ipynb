{
 "cells": [
  {
   "cell_type": "code",
   "execution_count": 1,
   "metadata": {},
   "outputs": [],
   "source": [
    "import os\n",
    "import sys\n",
    "import json"
   ]
  },
  {
   "cell_type": "code",
   "execution_count": 12,
   "metadata": {},
   "outputs": [],
   "source": [
    "folder = \"../../web-data/squads/\""
   ]
  },
  {
   "cell_type": "code",
   "execution_count": 13,
   "metadata": {},
   "outputs": [
    {
     "name": "stdout",
     "output_type": "stream",
     "text": [
      "Loaded squad JSON files\n"
     ]
    }
   ],
   "source": [
    "squad_files = []\n",
    "for (dirpath, dirnames, filenames) in os.walk(folder):\n",
    "    squad_files = filenames\n",
    "    print(\"Loaded squad JSON files\")"
   ]
  },
  {
   "cell_type": "code",
   "execution_count": 14,
   "metadata": {},
   "outputs": [],
   "source": [
    "key = \"mumbai\""
   ]
  },
  {
   "cell_type": "code",
   "execution_count": 17,
   "metadata": {},
   "outputs": [],
   "source": [
    "squad = [x for x in squad_files if key in x][0]\n",
    "with open(folder+squad) as f:\n",
    "    squad = json.load(f)"
   ]
  },
  {
   "cell_type": "code",
   "execution_count": 18,
   "metadata": {},
   "outputs": [
    {
     "data": {
      "text/plain": [
       "dict_keys(['tournament', 'team', 'stats'])"
      ]
     },
     "execution_count": 18,
     "metadata": {},
     "output_type": "execute_result"
    }
   ],
   "source": [
    "squad.keys()"
   ]
  },
  {
   "cell_type": "code",
   "execution_count": 19,
   "metadata": {},
   "outputs": [
    {
     "data": {
      "text/plain": [
       "{'description': 'IPL 2018',\n",
       " 'endDate': '2018-05-27T23:00:00+0530',\n",
       " 'id': 7749,\n",
       " 'matchesByType': {'IPLT20': 60},\n",
       " 'name': 'ipl2018',\n",
       " 'provisional': False,\n",
       " 'startDate': '2018-04-07T20:00:00+0530'}"
      ]
     },
     "execution_count": 19,
     "metadata": {},
     "output_type": "execute_result"
    }
   ],
   "source": [
    "squad[\"tournament\"]"
   ]
  },
  {
   "cell_type": "code",
   "execution_count": 20,
   "metadata": {},
   "outputs": [
    {
     "data": {
      "text/plain": [
       "{'abbreviation': 'MI',\n",
       " 'fullName': 'Mumbai Indians',\n",
       " 'id': 6,\n",
       " 'primaryColor': '00AEEF',\n",
       " 'secondaryColor': 'FFFFFF',\n",
       " 'shortName': 'Mumbai',\n",
       " 'type': 'm'}"
      ]
     },
     "execution_count": 20,
     "metadata": {},
     "output_type": "execute_result"
    }
   ],
   "source": [
    "squad[\"team\"]"
   ]
  },
  {
   "cell_type": "code",
   "execution_count": 21,
   "metadata": {},
   "outputs": [],
   "source": [
    "squad = squad[\"stats\"][\"content\"]"
   ]
  },
  {
   "cell_type": "code",
   "execution_count": 22,
   "metadata": {},
   "outputs": [
    {
     "name": "stdout",
     "output_type": "stream",
     "text": [
      "{'id': 588, 'fullName': 'Akila Dananjaya', 'shortName': 'A Dananjaya', 'nationality': 'Sri Lankan', 'dateOfBirth': '1993-10-04', 'rightArmedBowl': False, 'rightHandedBat': False}\n"
     ]
    }
   ],
   "source": [
    "for player in squad:\n",
    "    print(player[\"player\"])\n",
    "    #print(player[\"stats\"])\n",
    "    break"
   ]
  },
  {
   "cell_type": "code",
   "execution_count": null,
   "metadata": {},
   "outputs": [],
   "source": []
  }
 ],
 "metadata": {
  "kernelspec": {
   "display_name": "Python 3",
   "language": "python",
   "name": "python3"
  },
  "language_info": {
   "codemirror_mode": {
    "name": "ipython",
    "version": 3
   },
   "file_extension": ".py",
   "mimetype": "text/x-python",
   "name": "python",
   "nbconvert_exporter": "python",
   "pygments_lexer": "ipython3",
   "version": "3.6.4"
  }
 },
 "nbformat": 4,
 "nbformat_minor": 2
}
